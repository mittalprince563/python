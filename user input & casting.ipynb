{
 "cells": [
  {
   "cell_type": "code",
   "execution_count": null,
   "metadata": {},
   "outputs": [],
   "source": [
    "# Casting is a conversion of one datatype to another data type .\n",
    "# User input()"
   ]
  },
  {
   "cell_type": "code",
   "execution_count": 4,
   "metadata": {},
   "outputs": [
    {
     "name": "stdout",
     "output_type": "stream",
     "text": [
      "5\n"
     ]
    }
   ],
   "source": [
    "a=input()\n",
    "a=input(\"enter the value:-\")\n",
    "print(a)\n"
   ]
  },
  {
   "cell_type": "code",
   "execution_count": 4,
   "metadata": {},
   "outputs": [
    {
     "name": "stdout",
     "output_type": "stream",
     "text": [
      "1020\n"
     ]
    }
   ],
   "source": [
    "a=input(\"enter the value1:-\")\n",
    "b=input(\"enter the value2:-\")\n",
    "print(a+b)      \n",
    "     \n"
   ]
  },
  {
   "cell_type": "code",
   "execution_count": 9,
   "metadata": {},
   "outputs": [
    {
     "name": "stdout",
     "output_type": "stream",
     "text": [
      "5030\n"
     ]
    }
   ],
   "source": [
    "a=input(\"enter the value1:-\")\n",
    "b=input(\"enter the value2:-\")\n",
    "print(a+b)\n"
   ]
  },
  {
   "cell_type": "code",
   "execution_count": null,
   "metadata": {},
   "outputs": [],
   "source": [
    "# Type casting"
   ]
  },
  {
   "cell_type": "code",
   "execution_count": 10,
   "metadata": {},
   "outputs": [
    {
     "name": "stdout",
     "output_type": "stream",
     "text": [
      "50\n"
     ]
    }
   ],
   "source": [
    "a=int(input(\"enter the value1:-\"))\n",
    "b=int(input(\"enter the value2:-\"))\n",
    "print(a+b)\n"
   ]
  },
  {
   "cell_type": "code",
   "execution_count": 11,
   "metadata": {},
   "outputs": [
    {
     "name": "stdout",
     "output_type": "stream",
     "text": [
      "80\n"
     ]
    }
   ],
   "source": [
    "a=int(input(\"enter the value1:-\"))\n",
    "b=int(input(\"enter the value2:-\"))\n",
    "print(a+b)\n"
   ]
  },
  {
   "cell_type": "code",
   "execution_count": 12,
   "metadata": {},
   "outputs": [
    {
     "name": "stdout",
     "output_type": "stream",
     "text": [
      "30.0\n"
     ]
    }
   ],
   "source": [
    "a=float(input(\"enter the value1:-\"))\n",
    "b=float(input(\"enter the value2:-\"))\n",
    "print(a+b)\n"
   ]
  },
  {
   "cell_type": "code",
   "execution_count": 13,
   "metadata": {},
   "outputs": [
    {
     "name": "stdout",
     "output_type": "stream",
     "text": [
      "115.0\n"
     ]
    }
   ],
   "source": [
    "a=float(input(\"enter the value1:-\"))\n",
    "b=float(input(\"enter the value2:-\"))\n",
    "print(a+b)\n"
   ]
  },
  {
   "cell_type": "code",
   "execution_count": 14,
   "metadata": {},
   "outputs": [
    {
     "name": "stdout",
     "output_type": "stream",
     "text": [
      "70\n"
     ]
    }
   ],
   "source": [
    "a=eval(input(\"enter the value:-1\"))\n",
    "b=eval(input(\"enter the value:-2\"))\n",
    "print(a+b)\n"
   ]
  },
  {
   "cell_type": "code",
   "execution_count": 15,
   "metadata": {},
   "outputs": [
    {
     "name": "stdout",
     "output_type": "stream",
     "text": [
      "30.5\n"
     ]
    }
   ],
   "source": [
    "a=eval(input(\"enter the value:-1\"))\n",
    "b=eval(input(\"enter the value:-2\"))\n",
    "print(a+b)\n"
   ]
  },
  {
   "cell_type": "code",
   "execution_count": 16,
   "metadata": {},
   "outputs": [
    {
     "name": "stdout",
     "output_type": "stream",
     "text": [
      "40.56\n"
     ]
    }
   ],
   "source": [
    "a=eval(input(\"enter the value:-1\"))\n",
    "b=eval(input(\"enter the value:-2\"))\n",
    "print(a+b)\n"
   ]
  },
  {
   "cell_type": "code",
   "execution_count": 17,
   "metadata": {},
   "outputs": [
    {
     "name": "stdout",
     "output_type": "stream",
     "text": [
      "32\n"
     ]
    }
   ],
   "source": [
    "a=eval(input(\"enter the value:-1\"))\n",
    "b=eval(input(\"enter the value:-2\"))\n",
    "print(a+b)\n"
   ]
  },
  {
   "cell_type": "code",
   "execution_count": 18,
   "metadata": {},
   "outputs": [
    {
     "name": "stdout",
     "output_type": "stream",
     "text": [
      "63\n"
     ]
    }
   ],
   "source": [
    "a=eval(input(\"enter the value:-1\"))\n",
    "b=eval(input(\"enter the value:-2\"))\n",
    "print(a+b)\n"
   ]
  },
  {
   "cell_type": "code",
   "execution_count": 19,
   "metadata": {},
   "outputs": [
    {
     "name": "stdout",
     "output_type": "stream",
     "text": [
      "30\n"
     ]
    }
   ],
   "source": [
    "a=eval(input(\"enter the value:-1\"))\n",
    "b=eval(input(\"enter the value:-2\"))\n",
    "print(a+b)\n"
   ]
  },
  {
   "cell_type": "code",
   "execution_count": 20,
   "metadata": {},
   "outputs": [
    {
     "name": "stdout",
     "output_type": "stream",
     "text": [
      "58\n"
     ]
    }
   ],
   "source": [
    "a=eval(input(\"enter the value:-1\"))\n",
    "b=eval(input(\"enter the value:-2\"))\n",
    "print(a+b)\n"
   ]
  },
  {
   "cell_type": "code",
   "execution_count": null,
   "metadata": {},
   "outputs": [],
   "source": [
    "# Conditional Statements\n",
    "\n",
    "\n",
    "# if[conditional expression]:-[statement to excute]\n",
    "\n",
    "#  a=10\n",
    "# if a%2==0:\n",
    "# print(\"even number\");    \n"
   ]
  },
  {
   "cell_type": "code",
   "execution_count": 21,
   "metadata": {},
   "outputs": [
    {
     "name": "stdout",
     "output_type": "stream",
     "text": [
      "30 even number\n"
     ]
    }
   ],
   "source": [
    "a=int(input(\"enter the value:-\"))\n",
    "if a%2==0:\n",
    " print(a,\"even number\")   \n",
    "\n"
   ]
  },
  {
   "cell_type": "code",
   "execution_count": 5,
   "metadata": {},
   "outputs": [],
   "source": [
    "a=int(input(\"enter the value:-\"))\n",
    "if a%2==0:\n",
    " print(a,\"even number\")   \n",
    " \n",
    " "
   ]
  },
  {
   "cell_type": "code",
   "execution_count": null,
   "metadata": {},
   "outputs": [],
   "source": [
    "#  if[conditional  expression]:[statement to excute]\n",
    "#  else:\n",
    "#      [alternate statement to excute]\n",
    "# a=10\n",
    "#  if a%2==0:\n",
    "#   print(\"even number\")\n",
    "#  else:\n",
    "#   print(\"odd number\")\n"
   ]
  },
  {
   "cell_type": "code",
   "execution_count": 24,
   "metadata": {},
   "outputs": [
    {
     "name": "stdout",
     "output_type": "stream",
     "text": [
      "12 even number\n",
      "hello world\n"
     ]
    }
   ],
   "source": [
    "a=int(input(\"enter the vslue:-\"))\n",
    "if a%2==0:\n",
    " print(a,\"even number\")\n",
    " print(\"hello world\")\n",
    "else:\n",
    " print(a,\"odd number\")\n"
   ]
  },
  {
   "cell_type": "code",
   "execution_count": 25,
   "metadata": {},
   "outputs": [
    {
     "name": "stdout",
     "output_type": "stream",
     "text": [
      "15 odd number\n"
     ]
    }
   ],
   "source": [
    "a=int(input(\"enter the vslue:-\"))\n",
    "if a%2==0:\n",
    " print(a,\"even number\")\n",
    " print(\"hello world\")\n",
    "else:\n",
    " print(a,\"odd number\")\n",
    " "
   ]
  },
  {
   "cell_type": "code",
   "execution_count": 26,
   "metadata": {},
   "outputs": [
    {
     "name": "stdout",
     "output_type": "stream",
     "text": [
      "21 odd number\n"
     ]
    }
   ],
   "source": [
    "a=int(input(\"enter the vslue:-\"))\n",
    "if a%2==0:\n",
    " print(a,\"even number\")\n",
    " print(\"hello world\")\n",
    "else:\n",
    " print(a,\"odd number\")\n",
    " "
   ]
  },
  {
   "cell_type": "code",
   "execution_count": 27,
   "metadata": {},
   "outputs": [
    {
     "name": "stdout",
     "output_type": "stream",
     "text": [
      "26 even number\n",
      "hello world\n"
     ]
    }
   ],
   "source": [
    "a=int(input(\"enter the value:-\"))\n",
    "if a%2==0:\n",
    " print(a,\"even number\")\n",
    " print(\"hello world\")\n",
    "else:\n",
    " print(a,\"odd number\")\n",
    " \n",
    " "
   ]
  },
  {
   "cell_type": "code",
   "execution_count": 29,
   "metadata": {},
   "outputs": [],
   "source": [
    "# #if[condition#1]:\n",
    "# [statement#1]\n",
    "# elif[condition#2]:\n",
    "# [statement#2]\n",
    "# elif[condition#3]:\n",
    "# [statement#3]\n",
    "# else:\n",
    "# [statement when if and elif (s)both are false]\n",
    "\n",
    "\n",
    "# per=55\n",
    "# ifper>=60:\n",
    "# print('first div.')\n",
    "# elif per>=48:\n",
    "# print('second div.')\n",
    "# elif per>=35:\n",
    "# print('third div')\n",
    "# else:\n",
    "# print('fail')\n"
   ]
  },
  {
   "cell_type": "code",
   "execution_count": 30,
   "metadata": {},
   "outputs": [
    {
     "name": "stdout",
     "output_type": "stream",
     "text": [
      "second div.\n"
     ]
    }
   ],
   "source": [
    "per=input()\n",
    "per=int(input('enter the value:-'))\n",
    "if per>=60:\n",
    " print('First div.')\n",
    "elif per>=48:\n",
    " print('second div.')\n",
    "elif per>=35:\n",
    " print('third div.')\n",
    "else:\n",
    " print('fail')\n",
    " "
   ]
  },
  {
   "cell_type": "code",
   "execution_count": 31,
   "metadata": {},
   "outputs": [
    {
     "name": "stdout",
     "output_type": "stream",
     "text": [
      "First div.\n"
     ]
    }
   ],
   "source": [
    "per=input()\n",
    "per=int(input('enter the value:-'))\n",
    "if per>=60:\n",
    " print('First div.')\n",
    "elif per>=48:\n",
    " print('second div.')\n",
    "elif per>=35:\n",
    " print('third div.')\n",
    "else:\n",
    " print('fail')\n",
    " "
   ]
  },
  {
   "cell_type": "code",
   "execution_count": 32,
   "metadata": {},
   "outputs": [
    {
     "name": "stdout",
     "output_type": "stream",
     "text": [
      "third div.\n"
     ]
    }
   ],
   "source": [
    "per=input()\n",
    "per=int(input('enter the value:-'))\n",
    "if per>=60:\n",
    " print('First div.')\n",
    "elif per>=48:\n",
    " print('second div.')\n",
    "elif per>=35:\n",
    " print('third div.')\n",
    "else:\n",
    " print('fail')\n",
    " "
   ]
  },
  {
   "cell_type": "code",
   "execution_count": 33,
   "metadata": {},
   "outputs": [
    {
     "name": "stdout",
     "output_type": "stream",
     "text": [
      "fail\n"
     ]
    }
   ],
   "source": [
    "per=input()\n",
    "per=int(input('enter the value:-'))\n",
    "if per>=60:\n",
    " print('First div.')\n",
    "elif per>=48:\n",
    " print('second div.')\n",
    "elif per>=35:\n",
    " print('third div.')\n",
    "else:\n",
    " print('fail')\n",
    " "
   ]
  },
  {
   "cell_type": "code",
   "execution_count": 34,
   "metadata": {},
   "outputs": [
    {
     "name": "stdout",
     "output_type": "stream",
     "text": [
      "second div.\n"
     ]
    }
   ],
   "source": [
    "per=input()\n",
    "per=int(input('enter the value:-'))\n",
    "if per>=60:\n",
    " print('First div.')\n",
    "elif per>=48:\n",
    " print('second div.')\n",
    "elif per>=35:\n",
    " print('third div.')\n",
    "else:\n",
    " print('fail')\n",
    " "
   ]
  },
  {
   "cell_type": "code",
   "execution_count": 35,
   "metadata": {},
   "outputs": [
    {
     "name": "stdout",
     "output_type": "stream",
     "text": [
      "third div.\n"
     ]
    }
   ],
   "source": [
    "per=input()\n",
    "per=int(input('enter the value:-'))\n",
    "if per>=60:\n",
    " print('First div.')\n",
    "elif per>=48:\n",
    " print('second div.')\n",
    "elif per>=35:\n",
    " print('third div.')\n",
    "else:\n",
    " print('fail')\n",
    " "
   ]
  },
  {
   "cell_type": "code",
   "execution_count": 36,
   "metadata": {},
   "outputs": [
    {
     "name": "stdout",
     "output_type": "stream",
     "text": [
      "fail\n"
     ]
    }
   ],
   "source": [
    "per=input()\n",
    "per=int(input('enter the value:-'))\n",
    "if per>=60:\n",
    " print('First div.')\n",
    "elif per>=48:\n",
    " print('second div.')\n",
    "elif per>=35:\n",
    " print('third div.')\n",
    "else:\n",
    " print('fail')\n",
    " "
   ]
  },
  {
   "cell_type": "code",
   "execution_count": null,
   "metadata": {},
   "outputs": [],
   "source": [
    "# Loops in python\n",
    "\n",
    "# For loop with range() in python\n",
    " \n",
    "# range() fn\n",
    "# range(5)\n",
    "# start=0\n",
    "# condn.<5\n",
    "# increemnt=1\n",
    "\n",
    "# range(1,6)\n",
    "# start=1\n",
    "# condn.<6\n",
    "# increment=1\n",
    "\n",
    "# range(1,6,2)\n",
    "# start=1\n",
    "# condn.<6\n",
    "# increment= 2\n"
   ]
  },
  {
   "cell_type": "code",
   "execution_count": 1,
   "metadata": {},
   "outputs": [
    {
     "name": "stdout",
     "output_type": "stream",
     "text": [
      "0\n",
      "1\n",
      "2\n",
      "3\n",
      "4\n"
     ]
    }
   ],
   "source": [
    "for n in range (5):\n",
    "    print(n)\n",
    "    "
   ]
  },
  {
   "cell_type": "code",
   "execution_count": 2,
   "metadata": {},
   "outputs": [
    {
     "name": "stdout",
     "output_type": "stream",
     "text": [
      "\n"
     ]
    }
   ],
   "source": [
    "print()\n"
   ]
  },
  {
   "cell_type": "code",
   "execution_count": 4,
   "metadata": {},
   "outputs": [
    {
     "name": "stdout",
     "output_type": "stream",
     "text": [
      "1\n",
      "2\n",
      "3\n",
      "4\n",
      "5\n"
     ]
    }
   ],
   "source": [
    "for n in range (1,6):\n",
    " print(n)\n",
    " "
   ]
  },
  {
   "cell_type": "code",
   "execution_count": 5,
   "metadata": {},
   "outputs": [
    {
     "name": "stdout",
     "output_type": "stream",
     "text": [
      "1\n",
      "3\n",
      "5\n"
     ]
    }
   ],
   "source": [
    "for n in range (1,6,2):\n",
    "    print(n)\n",
    "    "
   ]
  },
  {
   "cell_type": "code",
   "execution_count": 6,
   "metadata": {},
   "outputs": [
    {
     "name": "stdout",
     "output_type": "stream",
     "text": [
      "1\n",
      "2\n",
      "3\n",
      "4\n",
      "5\n",
      "6\n",
      "7\n",
      "8\n",
      "9\n",
      "10\n"
     ]
    }
   ],
   "source": [
    "for n in range (1,11):\n",
    "    print(n)\n",
    "    "
   ]
  },
  {
   "cell_type": "code",
   "execution_count": 8,
   "metadata": {},
   "outputs": [
    {
     "name": "stdout",
     "output_type": "stream",
     "text": [
      "2\n",
      "4\n",
      "6\n",
      "8\n",
      "10\n",
      "12\n",
      "14\n",
      "16\n",
      "18\n",
      "20\n"
     ]
    }
   ],
   "source": [
    "for a in range (1,11):\n",
    " print(2*a)\n",
    " "
   ]
  },
  {
   "cell_type": "code",
   "execution_count": 9,
   "metadata": {},
   "outputs": [
    {
     "name": "stdout",
     "output_type": "stream",
     "text": [
      "2\n",
      "4\n",
      "6\n",
      "8\n",
      "10\n",
      "12\n",
      "14\n",
      "16\n",
      "18\n",
      "20\n"
     ]
    }
   ],
   "source": [
    "for n in range (1,11):\n",
    " print(2*n)\n",
    " "
   ]
  },
  {
   "cell_type": "code",
   "execution_count": 13,
   "metadata": {},
   "outputs": [
    {
     "name": "stdout",
     "output_type": "stream",
     "text": [
      "2* 1 = 2\n",
      "2* 2 = 4\n",
      "2* 3 = 6\n",
      "2* 4 = 8\n",
      "2* 5 = 10\n",
      "2* 6 = 12\n",
      "2* 7 = 14\n",
      "2* 8 = 16\n",
      "2* 9 = 18\n",
      "2* 10 = 20\n"
     ]
    }
   ],
   "source": [
    "for n in range (1,11):\n",
    "    print('2*',n,'=',2*n)\n",
    "    "
   ]
  },
  {
   "cell_type": "code",
   "execution_count": 14,
   "metadata": {},
   "outputs": [
    {
     "name": "stdout",
     "output_type": "stream",
     "text": [
      "2* 1 = 2\n",
      "2* 2 = 4\n",
      "2* 3 = 6\n",
      "2* 4 = 8\n",
      "2* 5 = 10\n",
      "2* 6 = 12\n",
      "2* 7 = 14\n",
      "2* 8 = 16\n",
      "2* 9 = 18\n",
      "2* 10 = 20\n"
     ]
    }
   ],
   "source": [
    "for a in range (1,11):\n",
    "    print('2*',a,'=',2*a)\n",
    "    \n",
    "    "
   ]
  },
  {
   "cell_type": "code",
   "execution_count": 17,
   "metadata": {},
   "outputs": [
    {
     "name": "stdout",
     "output_type": "stream",
     "text": [
      "5* 1 = 5\n",
      "5* 2 = 10\n",
      "5* 3 = 15\n",
      "5* 4 = 20\n",
      "5* 5 = 25\n",
      "5* 6 = 30\n",
      "5* 7 = 35\n",
      "5* 8 = 40\n",
      "5* 9 = 45\n",
      "5* 10 = 50\n"
     ]
    }
   ],
   "source": [
    "for a in range (1,11):\n",
    "    print('5*',a,'=',5*a)\n"
   ]
  },
  {
   "cell_type": "code",
   "execution_count": 20,
   "metadata": {},
   "outputs": [],
   "source": [
    "for n in range (10,0):\n",
    " print(n)\n",
    " "
   ]
  },
  {
   "cell_type": "code",
   "execution_count": 21,
   "metadata": {},
   "outputs": [
    {
     "name": "stdout",
     "output_type": "stream",
     "text": [
      "10\n",
      "9\n",
      "8\n",
      "7\n",
      "6\n",
      "5\n",
      "4\n",
      "3\n",
      "2\n",
      "1\n"
     ]
    }
   ],
   "source": [
    "for n in range (10,0,-1):\n",
    " print(n)\n",
    " \n",
    " "
   ]
  },
  {
   "cell_type": "code",
   "execution_count": 22,
   "metadata": {},
   "outputs": [
    {
     "name": "stdout",
     "output_type": "stream",
     "text": [
      "10\n",
      "8\n",
      "6\n",
      "4\n",
      "2\n"
     ]
    }
   ],
   "source": [
    "for n in range (10,0,-2):\n",
    " print(n)\n",
    " "
   ]
  },
  {
   "cell_type": "code",
   "execution_count": 23,
   "metadata": {},
   "outputs": [
    {
     "name": "stdout",
     "output_type": "stream",
     "text": [
      "10\n",
      "8\n",
      "6\n",
      "4\n",
      "2\n",
      "0\n"
     ]
    }
   ],
   "source": [
    "for n in range (10,-1,-2):\n",
    " print(n)\n",
    " \n",
    " "
   ]
  },
  {
   "cell_type": "code",
   "execution_count": null,
   "metadata": {},
   "outputs": [],
   "source": [
    "# While loop in python"
   ]
  },
  {
   "cell_type": "code",
   "execution_count": 27,
   "metadata": {},
   "outputs": [
    {
     "name": "stdout",
     "output_type": "stream",
     "text": [
      "1 hello\n",
      "2 hello\n",
      "3 hello\n",
      "4 hello\n",
      "5 hello\n",
      "6 hello\n",
      "7 hello\n",
      "8 hello\n",
      "9 hello\n",
      "10 hello\n"
     ]
    }
   ],
   "source": [
    "i=1\n",
    "while i<=10:\n",
    "    print(i,'hello')\n",
    "    i=i+1\n",
    "    \n"
   ]
  },
  {
   "cell_type": "code",
   "execution_count": 25,
   "metadata": {},
   "outputs": [
    {
     "name": "stdout",
     "output_type": "stream",
     "text": [
      "11\n"
     ]
    }
   ],
   "source": [
    "print(i)\n"
   ]
  },
  {
   "cell_type": "code",
   "execution_count": 28,
   "metadata": {},
   "outputs": [
    {
     "name": "stdout",
     "output_type": "stream",
     "text": [
      "10 hello\n",
      "9 hello\n",
      "8 hello\n",
      "7 hello\n",
      "6 hello\n",
      "5 hello\n",
      "4 hello\n",
      "3 hello\n",
      "2 hello\n",
      "1 hello\n"
     ]
    }
   ],
   "source": [
    "a=10\n",
    "while a>=1:\n",
    "    print(a,'hello')\n",
    "    a=a-1\n",
    "    "
   ]
  },
  {
   "cell_type": "code",
   "execution_count": 29,
   "metadata": {},
   "outputs": [
    {
     "name": "stdout",
     "output_type": "stream",
     "text": [
      "0\n"
     ]
    }
   ],
   "source": [
    "print(a)\n"
   ]
  },
  {
   "cell_type": "code",
   "execution_count": null,
   "metadata": {},
   "outputs": [],
   "source": [
    "# Build a simple calculator in python ."
   ]
  },
  {
   "cell_type": "code",
   "execution_count": 32,
   "metadata": {},
   "outputs": [
    {
     "name": "stdout",
     "output_type": "stream",
     "text": [
      "+add\n",
      "  -substract\n",
      " *multiply\n",
      "    /divide\n"
     ]
    }
   ],
   "source": [
    "print('''+add\n",
    "  -substract\n",
    " *multiply\n",
    "    /divide''')\n",
    "\n"
   ]
  },
  {
   "cell_type": "code",
   "execution_count": 33,
   "metadata": {},
   "outputs": [
    {
     "name": "stdout",
     "output_type": "stream",
     "text": [
      "50\n"
     ]
    }
   ],
   "source": [
    "num1=int(input('enter the value1:-')) \n",
    "num2=int(input('enter the value2:-'))\n",
    "opr=input('enter the opr')\n",
    "if opr=='+':\n",
    "    print(num1+num2)\n",
    "elif opr=='-':\n",
    "    print(num1-num2)\n",
    "elif opr=='*':\n",
    "  print(num1*num2)\n",
    "elif opr=='/':\n",
    "   print(num1/num2)\n",
    "else:\n",
    "   print('invalid opr')\n",
    "   \n",
    "\n"
   ]
  },
  {
   "cell_type": "code",
   "execution_count": 34,
   "metadata": {},
   "outputs": [
    {
     "name": "stdout",
     "output_type": "stream",
     "text": [
      "0\n"
     ]
    }
   ],
   "source": [
    "num1=int(input('enter the value1:-')) \n",
    "num2=int(input('enter the value2:-'))\n",
    "opr=input('enter the opr')\n",
    "if opr=='+':\n",
    "    print(num1+num2)\n",
    "elif opr=='-':\n",
    "    print(num1-num2)\n",
    "elif opr=='*':\n",
    "  print(num1*num2)\n",
    "elif opr=='/':\n",
    "   print(num1/num2)\n",
    "else:\n",
    "   print('invalid opr')\n",
    "   "
   ]
  },
  {
   "cell_type": "code",
   "execution_count": 35,
   "metadata": {},
   "outputs": [
    {
     "name": "stdout",
     "output_type": "stream",
     "text": [
      "200\n"
     ]
    }
   ],
   "source": [
    "num1=int(input('enter the value1:-')) \n",
    "num2=int(input('enter the value2:-'))\n",
    "opr=input('enter the opr')\n",
    "if opr=='+':\n",
    "    print(num1+num2)\n",
    "elif opr=='-':\n",
    "    print(num1-num2)\n",
    "elif opr=='*':\n",
    "  print(num1*num2)\n",
    "elif opr=='/':\n",
    "   print(num1/num2)\n",
    "else:\n",
    "   print('invalid opr')\n",
    "   "
   ]
  },
  {
   "cell_type": "code",
   "execution_count": 36,
   "metadata": {},
   "outputs": [
    {
     "name": "stdout",
     "output_type": "stream",
     "text": [
      "2.0\n"
     ]
    }
   ],
   "source": [
    "num1=int(input('enter the value1:-')) \n",
    "num2=int(input('enter the value2:-'))\n",
    "opr=input('enter the opr')\n",
    "if opr=='+':\n",
    "    print(num1+num2)\n",
    "elif opr=='-':\n",
    "    print(num1-num2)\n",
    "elif opr=='*':\n",
    "  print(num1*num2)\n",
    "elif opr=='/':\n",
    "   print(num1/num2)\n",
    "else:\n",
    "   print('invalid opr')\n",
    "   "
   ]
  },
  {
   "cell_type": "code",
   "execution_count": 37,
   "metadata": {},
   "outputs": [
    {
     "name": "stdout",
     "output_type": "stream",
     "text": [
      "invalid opr\n"
     ]
    }
   ],
   "source": [
    "num1=int(input('enter the value1:-')) \n",
    "num2=int(input('enter the value2:-'))\n",
    "opr=input('enter the opr')\n",
    "if opr=='+':\n",
    "    print(num1+num2)\n",
    "elif opr=='-':\n",
    "    print(num1-num2)\n",
    "elif opr=='*':\n",
    "  print(num1*num2)\n",
    "elif opr=='/':\n",
    "   print(num1/num2)\n",
    "else:\n",
    "   print('invalid opr')\n",
    "   "
   ]
  },
  {
   "cell_type": "code",
   "execution_count": 1,
   "metadata": {},
   "outputs": [
    {
     "name": "stdout",
     "output_type": "stream",
     "text": [
      "4500\n"
     ]
    }
   ],
   "source": [
    "num1=int(input('enter the value1:-')) \n",
    "num2=int(input('enter the value2:-'))\n",
    "opr=input('enter the opr')\n",
    "if opr=='+':\n",
    "    print(num1+num2)\n",
    "elif opr=='-':\n",
    "    print(num1-num2)\n",
    "elif opr=='*':\n",
    "  print(num1*num2)\n",
    "elif opr=='/':\n",
    "   print(num1/num2)\n",
    "else:\n",
    "   print('invalid opr')\n",
    "  \n",
    "   "
   ]
  },
  {
   "cell_type": "code",
   "execution_count": 2,
   "metadata": {},
   "outputs": [
    {
     "name": "stdout",
     "output_type": "stream",
     "text": [
      "invalid opr\n"
     ]
    }
   ],
   "source": [
    "num1=int(input('enter the value1:-')) \n",
    "num2=int(input('enter the value2:-'))\n",
    "opr=input('enter the opr')\n",
    "if opr=='+':\n",
    "    print(num1+num2)\n",
    "elif opr=='-':\n",
    "    print(num1-num2)\n",
    "elif opr=='*':\n",
    "  print(num1*num2)\n",
    "elif opr=='/':\n",
    "   print(num1/num2)\n",
    "else:\n",
    "   print('invalid opr')\n",
    "  "
   ]
  },
  {
   "cell_type": "code",
   "execution_count": 3,
   "metadata": {},
   "outputs": [
    {
     "name": "stdout",
     "output_type": "stream",
     "text": [
      "-10\n"
     ]
    }
   ],
   "source": [
    "num1=int(input('enter the value1:-')) \n",
    "num2=int(input('enter the value2:-'))\n",
    "opr=input('enter the opr')\n",
    "if opr=='+':\n",
    "    print(num1+num2)\n",
    "elif opr=='-':\n",
    "    print(num1-num2)\n",
    "elif opr=='*':\n",
    "  print(num1*num2)\n",
    "elif opr=='/':\n",
    "   print(num1/num2)\n",
    "else:\n",
    "   print('invalid opr')\n",
    "   "
   ]
  },
  {
   "cell_type": "code",
   "execution_count": null,
   "metadata": {},
   "outputs": [],
   "source": [
    "# Break & Continue Statements  "
   ]
  },
  {
   "cell_type": "code",
   "execution_count": 1,
   "metadata": {},
   "outputs": [
    {
     "name": "stdout",
     "output_type": "stream",
     "text": [
      "0\n",
      "1\n",
      "2\n",
      "3\n",
      "4\n",
      "5\n",
      "6\n",
      "7\n",
      "8\n",
      "9\n",
      "10\n",
      "11\n"
     ]
    }
   ],
   "source": [
    "for n in range(12):\n",
    "    print(n)\n",
    "    "
   ]
  },
  {
   "cell_type": "code",
   "execution_count": 20,
   "metadata": {},
   "outputs": [
    {
     "name": "stdout",
     "output_type": "stream",
     "text": [
      "5X 1 = 5\n",
      "5X 2 = 10\n",
      "5X 3 = 15\n",
      "5X 4 = 20\n",
      "5X 5 = 25\n",
      "5X 6 = 30\n",
      "5X 7 = 35\n",
      "5X 8 = 40\n",
      "5X 9 = 45\n",
      "5X 10 = 50\n",
      "5X 11 = 55\n"
     ]
    }
   ],
   "source": [
    "for n in range (12):\n",
    "     print('5X',n+1,'=',5*(n+1))\n",
    "     if n==10:\n",
    "      break\n"
   ]
  },
  {
   "cell_type": "code",
   "execution_count": 16,
   "metadata": {},
   "outputs": [
    {
     "name": "stdout",
     "output_type": "stream",
     "text": [
      "5X 0 = 0\n",
      "5X 1 = 5\n",
      "5X 2 = 10\n",
      "5X 3 = 15\n",
      "5X 4 = 20\n",
      "5X 5 = 25\n",
      "5X 6 = 30\n",
      "5X 7 = 35\n",
      "5X 8 = 40\n",
      "5X 9 = 45\n",
      "5X 10 = 50\n",
      "5X 11 = 55\n"
     ]
    }
   ],
   "source": [
    "for n in range (12):\n",
    "     print('5X',n,'=',5*(n))\n",
    "     if n==10:\n",
    "      continue\n"
   ]
  },
  {
   "cell_type": "code",
   "execution_count": 17,
   "metadata": {},
   "outputs": [
    {
     "name": "stdout",
     "output_type": "stream",
     "text": [
      "5X 0 = 0\n",
      "5X 1 = 5\n",
      "5X 2 = 10\n",
      "5X 3 = 15\n",
      "5X 4 = 20\n",
      "5X 5 = 25\n",
      "5X 6 = 30\n",
      "5X 7 = 35\n",
      "5X 8 = 40\n",
      "5X 9 = 45\n",
      "5X 10 = 50\n"
     ]
    }
   ],
   "source": [
    "for n in range (12):\n",
    "     print('5X',n,'=',5*(n))\n",
    "     if n==10:\n",
    "      break\n",
    "     "
   ]
  },
  {
   "cell_type": "code",
   "execution_count": 18,
   "metadata": {},
   "outputs": [
    {
     "name": "stdout",
     "output_type": "stream",
     "text": [
      "5X 1 = 5\n",
      "5X 2 = 10\n",
      "5X 3 = 15\n",
      "5X 4 = 20\n",
      "5X 5 = 25\n",
      "5X 6 = 30\n",
      "5X 7 = 35\n",
      "5X 8 = 40\n",
      "5X 9 = 45\n",
      "5X 10 = 50\n",
      "5X 11 = 55\n",
      "5X 12 = 60\n"
     ]
    }
   ],
   "source": [
    "for n in range (12):\n",
    "     print('5X',n+1,'=',5*(n+1))\n",
    "     if n==10:\n",
    "      continue\n",
    "     "
   ]
  },
  {
   "cell_type": "code",
   "execution_count": null,
   "metadata": {},
   "outputs": [],
   "source": [
    "# Function in python\n",
    "\n",
    "# 1.Built-in function\n",
    "# 2.User define function"
   ]
  },
  {
   "cell_type": "code",
   "execution_count": 21,
   "metadata": {},
   "outputs": [
    {
     "name": "stdout",
     "output_type": "stream",
     "text": [
      "4.235294117647059\n",
      "3.7333333333333334\n"
     ]
    }
   ],
   "source": [
    "# user define function\n",
    "\n",
    "\n",
    "a=9\n",
    "b=8\n",
    "gmean1=(a*b)/(a+b)\n",
    "print(gmean1)\n",
    "\n",
    "c=8\n",
    "d=7\n",
    "gmean2=(c*d)/(c+d)\n",
    "print(gmean2)\n",
    "\n"
   ]
  },
  {
   "cell_type": "code",
   "execution_count": 27,
   "metadata": {},
   "outputs": [],
   "source": [
    "def calculategmean(a,b):\n",
    "     a=9\n",
    "     b=8\n",
    "     gmean=(a*b)/(a+b)\n",
    "     print(gmean)\n"
   ]
  },
  {
   "cell_type": "code",
   "execution_count": 33,
   "metadata": {},
   "outputs": [],
   "source": [
    "def calculategmean(c,d):\n",
    "    c=8\n",
    "    d=7\n",
    "    if(c>=d):\n",
    "        print(c,'first number is greater')\n",
    "    else:\n",
    "        print(d,'second number is greater or equal')\n"
   ]
  },
  {
   "cell_type": "code",
   "execution_count": null,
   "metadata": {},
   "outputs": [],
   "source": []
  }
 ],
 "metadata": {
  "kernelspec": {
   "display_name": "Python 3",
   "language": "python",
   "name": "python3"
  },
  "language_info": {
   "codemirror_mode": {
    "name": "ipython",
    "version": 3
   },
   "file_extension": ".py",
   "mimetype": "text/x-python",
   "name": "python",
   "nbconvert_exporter": "python",
   "pygments_lexer": "ipython3",
   "version": "3.11.3"
  },
  "orig_nbformat": 4
 },
 "nbformat": 4,
 "nbformat_minor": 2
}
