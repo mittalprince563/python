{
 "cells": [
  {
   "cell_type": "code",
   "execution_count": null,
   "metadata": {},
   "outputs": [],
   "source": [
    "# Dictionary\n",
    "\n",
    "# Dictionary constructor is dict()\n",
    "# Dictionary literal is {}\n",
    "# Dictionary is a combination of key and values pair\n",
    "# Dictionary support indexing but not slicing\n",
    "# Dictionary key must be unique and immutable datatype(hashbale)\n",
    "# Dictionary values may or may not be immutable datatype \n",
    "# Dictionary support nesting\n",
    "# Dictionary has many methods "
   ]
  },
  {
   "cell_type": "code",
   "execution_count": 1,
   "metadata": {},
   "outputs": [],
   "source": [
    "a=dict()\n"
   ]
  },
  {
   "cell_type": "code",
   "execution_count": 2,
   "metadata": {},
   "outputs": [
    {
     "name": "stdout",
     "output_type": "stream",
     "text": [
      "{}\n"
     ]
    }
   ],
   "source": [
    "print(a)\n"
   ]
  },
  {
   "cell_type": "code",
   "execution_count": 3,
   "metadata": {},
   "outputs": [
    {
     "name": "stdout",
     "output_type": "stream",
     "text": [
      "{}\n"
     ]
    }
   ],
   "source": [
    "b={}\n",
    "print(b)\n"
   ]
  },
  {
   "cell_type": "code",
   "execution_count": 4,
   "metadata": {},
   "outputs": [
    {
     "name": "stdout",
     "output_type": "stream",
     "text": [
      "{} <class 'dict'>\n"
     ]
    }
   ],
   "source": [
    "print(a,type(a))\n"
   ]
  },
  {
   "cell_type": "code",
   "execution_count": 5,
   "metadata": {},
   "outputs": [
    {
     "name": "stdout",
     "output_type": "stream",
     "text": [
      "{} <class 'dict'>\n"
     ]
    }
   ],
   "source": [
    "print(b,type(b))\n"
   ]
  },
  {
   "cell_type": "code",
   "execution_count": 1,
   "metadata": {},
   "outputs": [],
   "source": [
    "c={1:'krishna',2:'mohan',3:'sohan',5:\"monu\"}\n"
   ]
  },
  {
   "cell_type": "code",
   "execution_count": 2,
   "metadata": {},
   "outputs": [
    {
     "name": "stdout",
     "output_type": "stream",
     "text": [
      "{1: 'krishna', 2: 'mohan', 3: 'sohan', 5: 'monu'}\n"
     ]
    }
   ],
   "source": [
    "print(c)\n"
   ]
  },
  {
   "cell_type": "code",
   "execution_count": null,
   "metadata": {},
   "outputs": [],
   "source": [
    "# first vaue is key & second value is value .\n",
    "\n",
    "# keys has two rules follow :-\n",
    "# 1> keys must be immutable \n",
    "# 2> keys must be unique \n"
   ]
  },
  {
   "cell_type": "code",
   "execution_count": 4,
   "metadata": {},
   "outputs": [],
   "source": [
    "c={1:'krishna',2:'mohan',3:'sohan',5:'shyam',2:\"ronny\"}\n",
    "\n"
   ]
  },
  {
   "cell_type": "code",
   "execution_count": 5,
   "metadata": {},
   "outputs": [
    {
     "name": "stdout",
     "output_type": "stream",
     "text": [
      "{1: 'krishna', 2: 'ronny', 3: 'sohan', 5: 'shyam'}\n"
     ]
    }
   ],
   "source": [
    "print(c)\n"
   ]
  },
  {
   "cell_type": "code",
   "execution_count": null,
   "metadata": {},
   "outputs": [],
   "source": [
    "# If in dict there are two keys will same, means not unique then dict will contain last key & value of that dictionary & this method called over lapping ."
   ]
  },
  {
   "cell_type": "code",
   "execution_count": 6,
   "metadata": {},
   "outputs": [],
   "source": [
    "d={1:'krishna',10.0:'mohan','name':'sohan',(12,3,4,):'monu',2:\"ronny\"}\n"
   ]
  },
  {
   "cell_type": "code",
   "execution_count": 8,
   "metadata": {},
   "outputs": [
    {
     "name": "stdout",
     "output_type": "stream",
     "text": [
      "{1: 'krishna', 10.0: 'mohan', 'name': 'sohan', (12, 3, 4): 'monu', 2: 'ronny'}\n"
     ]
    }
   ],
   "source": [
    "print(d)\n"
   ]
  },
  {
   "cell_type": "code",
   "execution_count": null,
   "metadata": {},
   "outputs": [],
   "source": [
    "# Integer - immutable\n",
    "# Float - immutable \n",
    "# String - immutable \n",
    "# Tuple - immutable \n",
    "# list - mutable (unhashable)\n",
    "# Set - mutable \n",
    "# Dictionary - immutable (hashable) "
   ]
  },
  {
   "cell_type": "code",
   "execution_count": 9,
   "metadata": {},
   "outputs": [],
   "source": [
    "e={1:10,10.0:'mohan','name':10.99,(12,3,4):[1,2,3,4],2:{1,2,3,4},10:{1:'ramu',2:'shyam'}}\n"
   ]
  },
  {
   "cell_type": "code",
   "execution_count": 10,
   "metadata": {},
   "outputs": [
    {
     "name": "stdout",
     "output_type": "stream",
     "text": [
      "{1: 10, 10.0: {1: 'ramu', 2: 'shyam'}, 'name': 10.99, (12, 3, 4): [1, 2, 3, 4], 2: {1, 2, 3, 4}}\n"
     ]
    }
   ],
   "source": [
    "print(e)\n"
   ]
  },
  {
   "cell_type": "code",
   "execution_count": 13,
   "metadata": {},
   "outputs": [],
   "source": [
    "f={1:10.99,10.95:'ramu','name':[1,2,3,4],(2,3,6,4,5):{2,3,6,5,56},10:\"ram\",15.95:{1:'shyam',6:\"ronny\"}}\n",
    "\n"
   ]
  },
  {
   "cell_type": "code",
   "execution_count": 14,
   "metadata": {},
   "outputs": [
    {
     "name": "stdout",
     "output_type": "stream",
     "text": [
      "{1: 10.99, 10.95: 'ramu', 'name': [1, 2, 3, 4], (2, 3, 6, 4, 5): {2, 3, 5, 6, 56}, 10: 'ram', 15.95: {1: 'shyam', 6: 'ronny'}}\n"
     ]
    }
   ],
   "source": [
    "print(f)\n"
   ]
  },
  {
   "cell_type": "code",
   "execution_count": 17,
   "metadata": {},
   "outputs": [],
   "source": [
    "# Dictionary support nesting\n",
    "\n",
    "e={1: 10.99, 10.95: 'ramu', 'name': [1, 2, 3, 4], (2, 3, 6, 4, 5): {2, 3, 5, 6, 56}, 10: 'ram', 15.95: {1: 'shyam', 6: 'ronny'}}\n"
   ]
  },
  {
   "cell_type": "code",
   "execution_count": 18,
   "metadata": {},
   "outputs": [
    {
     "name": "stdout",
     "output_type": "stream",
     "text": [
      "{1: 10.99, 10.95: 'ramu', 'name': [1, 2, 3, 4], (2, 3, 6, 4, 5): {2, 3, 5, 6, 56}, 10: 'ram', 15.95: {1: 'shyam', 6: 'ronny'}}\n"
     ]
    }
   ],
   "source": [
    "print(e)\n"
   ]
  },
  {
   "cell_type": "code",
   "execution_count": null,
   "metadata": {},
   "outputs": [],
   "source": [
    "# Dictionary support indexing\n"
   ]
  },
  {
   "cell_type": "code",
   "execution_count": 23,
   "metadata": {},
   "outputs": [
    {
     "name": "stdout",
     "output_type": "stream",
     "text": [
      "dict_keys([1, 10.95, 'name', (2, 3, 6, 4, 5), 10, 15.95])\n"
     ]
    }
   ],
   "source": [
    "# Methods of Dictionary\n",
    "\n",
    "# 1> e.keys()\n",
    "\n",
    "print(e.keys())\n"
   ]
  },
  {
   "cell_type": "code",
   "execution_count": 27,
   "metadata": {},
   "outputs": [
    {
     "name": "stdout",
     "output_type": "stream",
     "text": [
      "dict_values([10.99, 'ramu', [1, 2, 3, 4], {2, 3, 5, 6, 56}, 'ram', {1: 'shyam', 6: 'ronny'}])\n"
     ]
    }
   ],
   "source": [
    "# Method:2\n",
    "\n",
    "e.values()\n",
    "print(e.values())\n"
   ]
  },
  {
   "cell_type": "code",
   "execution_count": 31,
   "metadata": {},
   "outputs": [
    {
     "data": {
      "text/plain": [
       "'ramu'"
      ]
     },
     "execution_count": 31,
     "metadata": {},
     "output_type": "execute_result"
    }
   ],
   "source": [
    "# Method:3\n",
    "\n",
    "e.pop(10.95)\n",
    "\n"
   ]
  },
  {
   "cell_type": "code",
   "execution_count": 32,
   "metadata": {},
   "outputs": [
    {
     "name": "stdout",
     "output_type": "stream",
     "text": [
      "{1: 10.99, (2, 3, 6, 4, 5): {2, 3, 5, 6, 56}, 10: 'ram', 15.95: {1: 'shyam', 6: 'ronny'}}\n"
     ]
    }
   ],
   "source": [
    "print(e)\n"
   ]
  },
  {
   "cell_type": "code",
   "execution_count": 34,
   "metadata": {},
   "outputs": [
    {
     "data": {
      "text/plain": [
       "(15.95, {1: 'shyam', 6: 'ronny'})"
      ]
     },
     "execution_count": 34,
     "metadata": {},
     "output_type": "execute_result"
    }
   ],
   "source": [
    "# Method:4\n",
    "\n",
    "e.popitem()\n"
   ]
  },
  {
   "cell_type": "code",
   "execution_count": 35,
   "metadata": {},
   "outputs": [
    {
     "name": "stdout",
     "output_type": "stream",
     "text": [
      "{1: 10.99, (2, 3, 6, 4, 5): {2, 3, 5, 6, 56}, 10: 'ram'}\n"
     ]
    }
   ],
   "source": [
    "print(e)\n"
   ]
  },
  {
   "cell_type": "code",
   "execution_count": 36,
   "metadata": {},
   "outputs": [
    {
     "data": {
      "text/plain": [
       "(10, 'ram')"
      ]
     },
     "execution_count": 36,
     "metadata": {},
     "output_type": "execute_result"
    }
   ],
   "source": [
    "e.popitem()\n"
   ]
  },
  {
   "cell_type": "code",
   "execution_count": 37,
   "metadata": {},
   "outputs": [
    {
     "name": "stdout",
     "output_type": "stream",
     "text": [
      "{1: 10.99, (2, 3, 6, 4, 5): {2, 3, 5, 6, 56}}\n"
     ]
    }
   ],
   "source": [
    "print(e)\n"
   ]
  },
  {
   "cell_type": "code",
   "execution_count": 38,
   "metadata": {},
   "outputs": [
    {
     "data": {
      "text/plain": [
       "dict_items([(1, 10.99), ((2, 3, 6, 4, 5), {2, 3, 5, 6, 56})])"
      ]
     },
     "execution_count": 38,
     "metadata": {},
     "output_type": "execute_result"
    }
   ],
   "source": [
    "# Method:5\n",
    "\n",
    "e.items()\n"
   ]
  },
  {
   "cell_type": "code",
   "execution_count": 39,
   "metadata": {},
   "outputs": [],
   "source": [
    "# Method:6\n",
    "\n",
    "e.clear()\n"
   ]
  },
  {
   "cell_type": "code",
   "execution_count": 40,
   "metadata": {},
   "outputs": [
    {
     "name": "stdout",
     "output_type": "stream",
     "text": [
      "{}\n"
     ]
    }
   ],
   "source": [
    "print(e)\n"
   ]
  },
  {
   "cell_type": "code",
   "execution_count": 41,
   "metadata": {},
   "outputs": [],
   "source": [
    "# Method:7\n",
    "\n",
    "e.update()\n"
   ]
  },
  {
   "cell_type": "code",
   "execution_count": 44,
   "metadata": {},
   "outputs": [],
   "source": [
    "e.update({1:'name',2:'krishna',3:'mohan',4:\"sohan\"})\n"
   ]
  },
  {
   "cell_type": "code",
   "execution_count": 45,
   "metadata": {},
   "outputs": [
    {
     "name": "stdout",
     "output_type": "stream",
     "text": [
      "{1: 'name', 2: 'krishna', 3: 'mohan', 4: 'sohan'}\n"
     ]
    }
   ],
   "source": [
    "print(e)\n"
   ]
  },
  {
   "cell_type": "code",
   "execution_count": 47,
   "metadata": {},
   "outputs": [
    {
     "data": {
      "text/plain": [
       "'krishna'"
      ]
     },
     "execution_count": 47,
     "metadata": {},
     "output_type": "execute_result"
    }
   ],
   "source": [
    "# Method:8\n",
    "\n",
    "e.get(2)\n"
   ]
  },
  {
   "cell_type": "code",
   "execution_count": 49,
   "metadata": {},
   "outputs": [
    {
     "data": {
      "text/plain": [
       "'sohan'"
      ]
     },
     "execution_count": 49,
     "metadata": {},
     "output_type": "execute_result"
    }
   ],
   "source": [
    "e.get(4)\n"
   ]
  },
  {
   "cell_type": "code",
   "execution_count": 50,
   "metadata": {},
   "outputs": [],
   "source": [
    "e.get(6)\n"
   ]
  },
  {
   "cell_type": "code",
   "execution_count": 51,
   "metadata": {},
   "outputs": [
    {
     "name": "stdout",
     "output_type": "stream",
     "text": [
      "{1: 'name', 2: 'krishna', 3: 'mohan', 4: 'sohan'}\n"
     ]
    }
   ],
   "source": [
    "print(e)\n"
   ]
  },
  {
   "cell_type": "code",
   "execution_count": 53,
   "metadata": {},
   "outputs": [
    {
     "data": {
      "text/plain": [
       "'data is not avl.'"
      ]
     },
     "execution_count": 53,
     "metadata": {},
     "output_type": "execute_result"
    }
   ],
   "source": [
    "e.get(10,'data is not avl.')\n"
   ]
  },
  {
   "cell_type": "code",
   "execution_count": 54,
   "metadata": {},
   "outputs": [
    {
     "name": "stdout",
     "output_type": "stream",
     "text": [
      "{1: 'name', 2: 'krishna', 3: 'mohan', 4: 'sohan'}\n"
     ]
    }
   ],
   "source": [
    "print(e)\n"
   ]
  },
  {
   "cell_type": "code",
   "execution_count": 56,
   "metadata": {},
   "outputs": [],
   "source": [
    "f=e\n"
   ]
  },
  {
   "cell_type": "code",
   "execution_count": 61,
   "metadata": {},
   "outputs": [
    {
     "name": "stdout",
     "output_type": "stream",
     "text": [
      "e {1: 'name', 2: 'krishna', 3: 'mohan', 4: 'sohan'}\n",
      "f {1: 'name', 2: 'krishna', 3: 'mohan', 4: 'sohan'}\n"
     ]
    }
   ],
   "source": [
    "print('e',e)\n",
    "print('f',f)\n"
   ]
  },
  {
   "cell_type": "code",
   "execution_count": 62,
   "metadata": {},
   "outputs": [
    {
     "name": "stdout",
     "output_type": "stream",
     "text": [
      "e {1: 'name', 2: 'krishna', 3: 'mohan', 4: 'sohan'} 1663334018624\n",
      "f {1: 'name', 2: 'krishna', 3: 'mohan', 4: 'sohan'} 1663334018624\n"
     ]
    }
   ],
   "source": [
    "print('e',e,id(e))\n",
    "print('f',f,id(f))\n"
   ]
  },
  {
   "cell_type": "code",
   "execution_count": 63,
   "metadata": {},
   "outputs": [],
   "source": [
    "# Method:9\n",
    "\n",
    "e.update()\n",
    "e.update({10:'mohan'})\n"
   ]
  },
  {
   "cell_type": "code",
   "execution_count": 64,
   "metadata": {},
   "outputs": [
    {
     "name": "stdout",
     "output_type": "stream",
     "text": [
      "e {1: 'name', 2: 'krishna', 3: 'mohan', 4: 'sohan', 10: 'mohan'} 1663334018624\n",
      "f {1: 'name', 2: 'krishna', 3: 'mohan', 4: 'sohan', 10: 'mohan'} 1663334018624\n"
     ]
    }
   ],
   "source": [
    "print('e',e,id(e))\n",
    "print('f',f,id(f))\n"
   ]
  },
  {
   "cell_type": "code",
   "execution_count": 65,
   "metadata": {},
   "outputs": [],
   "source": [
    "f=e\n",
    "f=e.copy()\n"
   ]
  },
  {
   "cell_type": "code",
   "execution_count": 66,
   "metadata": {},
   "outputs": [
    {
     "name": "stdout",
     "output_type": "stream",
     "text": [
      "e {1: 'name', 2: 'krishna', 3: 'mohan', 4: 'sohan', 10: 'mohan'} 1663334018624\n",
      "f {1: 'name', 2: 'krishna', 3: 'mohan', 4: 'sohan', 10: 'mohan'} 1663327993792\n"
     ]
    }
   ],
   "source": [
    "print('e',e,id(e))\n",
    "print('f',f,id(f))\n"
   ]
  },
  {
   "cell_type": "code",
   "execution_count": null,
   "metadata": {},
   "outputs": [],
   "source": []
  }
 ],
 "metadata": {
  "kernelspec": {
   "display_name": "Python 3",
   "language": "python",
   "name": "python3"
  },
  "language_info": {
   "codemirror_mode": {
    "name": "ipython",
    "version": 3
   },
   "file_extension": ".py",
   "mimetype": "text/x-python",
   "name": "python",
   "nbconvert_exporter": "python",
   "pygments_lexer": "ipython3",
   "version": "3.11.3"
  },
  "orig_nbformat": 4
 },
 "nbformat": 4,
 "nbformat_minor": 2
}
